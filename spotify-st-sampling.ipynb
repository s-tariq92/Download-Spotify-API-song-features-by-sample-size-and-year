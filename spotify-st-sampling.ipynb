{
 "cells": [
  {
   "cell_type": "code",
   "execution_count": 4,
   "metadata": {},
   "outputs": [],
   "source": [
    "\n",
    "\n",
    "#CONNECT TO SPOTIFY\n",
    "\n",
    "import spotipy\n",
    "from spotipy.oauth2 import SpotifyClientCredentials\n",
    "\n",
    "cid =\"a09d11aa9cb341c899d56d84c67f5d7f\" \n",
    "secret = \"fa09d00c868d497ebbb160476b56f097\"\n",
    "\n",
    "client_credentials_manager = SpotifyClientCredentials(client_id=cid, client_secret=secret)\n",
    "sp = spotipy.Spotify(client_credentials_manager=client_credentials_manager)"
   ]
  },
  {
   "cell_type": "code",
   "execution_count": 3,
   "metadata": {},
   "outputs": [
    {
     "name": "stdout",
     "output_type": "stream",
     "text": [
      "number of elements in the track_id list: 100\n",
      "(100, 4)\n"
     ]
    },
    {
     "data": {
      "text/html": [
       "<div>\n",
       "<style scoped>\n",
       "    .dataframe tbody tr th:only-of-type {\n",
       "        vertical-align: middle;\n",
       "    }\n",
       "\n",
       "    .dataframe tbody tr th {\n",
       "        vertical-align: top;\n",
       "    }\n",
       "\n",
       "    .dataframe thead th {\n",
       "        text-align: right;\n",
       "    }\n",
       "</style>\n",
       "<table border=\"1\" class=\"dataframe\">\n",
       "  <thead>\n",
       "    <tr style=\"text-align: right;\">\n",
       "      <th></th>\n",
       "      <th>artist_name</th>\n",
       "      <th>track_name</th>\n",
       "      <th>track_id</th>\n",
       "      <th>popularity</th>\n",
       "    </tr>\n",
       "  </thead>\n",
       "  <tbody>\n",
       "    <tr>\n",
       "      <th>0</th>\n",
       "      <td>AC/DC</td>\n",
       "      <td>Thunderstruck</td>\n",
       "      <td>57bgtoPSgt236HzfBOd8kj</td>\n",
       "      <td>78</td>\n",
       "    </tr>\n",
       "    <tr>\n",
       "      <th>1</th>\n",
       "      <td>Elton John</td>\n",
       "      <td>Don't Go Breaking My Heart</td>\n",
       "      <td>5pKJtX4wBeby9qIfFhyOJj</td>\n",
       "      <td>69</td>\n",
       "    </tr>\n",
       "    <tr>\n",
       "      <th>2</th>\n",
       "      <td>Alice In Chains</td>\n",
       "      <td>Man in the Box</td>\n",
       "      <td>6gZVQvQZOFpzIy3HblJ20F</td>\n",
       "      <td>68</td>\n",
       "    </tr>\n",
       "    <tr>\n",
       "      <th>3</th>\n",
       "      <td>Bell Biv DeVoe</td>\n",
       "      <td>Poison</td>\n",
       "      <td>6m59VvDUi0UQsB2eZ9wVbH</td>\n",
       "      <td>63</td>\n",
       "    </tr>\n",
       "    <tr>\n",
       "      <th>4</th>\n",
       "      <td>A Tribe Called Quest</td>\n",
       "      <td>Can I Kick It?</td>\n",
       "      <td>3Ti0GdlrotgwsAVBBugv0I</td>\n",
       "      <td>68</td>\n",
       "    </tr>\n",
       "  </tbody>\n",
       "</table>\n",
       "</div>"
      ],
      "text/plain": [
       "            artist_name                  track_name                track_id  \\\n",
       "0                 AC/DC               Thunderstruck  57bgtoPSgt236HzfBOd8kj   \n",
       "1            Elton John  Don't Go Breaking My Heart  5pKJtX4wBeby9qIfFhyOJj   \n",
       "2       Alice In Chains              Man in the Box  6gZVQvQZOFpzIy3HblJ20F   \n",
       "3        Bell Biv DeVoe                      Poison  6m59VvDUi0UQsB2eZ9wVbH   \n",
       "4  A Tribe Called Quest              Can I Kick It?  3Ti0GdlrotgwsAVBBugv0I   \n",
       "\n",
       "   popularity  \n",
       "0          78  \n",
       "1          69  \n",
       "2          68  \n",
       "3          63  \n",
       "4          68  "
      ]
     },
     "execution_count": 3,
     "metadata": {},
     "output_type": "execute_result"
    }
   ],
   "source": [
    "#GET SONG NAMES OF RANDOM SAMPLE\n",
    "\n",
    "# create empty lists where the results are going to be stored\n",
    "artist_name = []\n",
    "track_name = []\n",
    "popularity = []\n",
    "track_id = []\n",
    "\n",
    "#random sample. set sample size, sample rate max 100, and song year\n",
    "for i in range(0,100,10):\n",
    "    track_results = sp.search(q='year:1990', type='track', limit=10,offset=i)\n",
    "    for i, t in enumerate(track_results['tracks']['items']):\n",
    "        artist_name.append(t['artists'][0]['name'])\n",
    "        track_name.append(t['name'])\n",
    "        track_id.append(t['id'])\n",
    "        popularity.append(t['popularity'])\n",
    "\n",
    "        \n",
    "print('number of elements in the track_id list:', len(track_id))\n",
    "\n",
    "\n",
    "#imports track names\n",
    "import pandas as pd\n",
    "df_tracks = pd.DataFrame({'artist_name':artist_name,'track_name':track_name,'track_id':track_id,'popularity':popularity})\n",
    "print(df_tracks.shape)\n",
    "df_tracks.head()\n",
    "\n"
   ]
  },
  {
   "cell_type": "code",
   "execution_count": 50,
   "metadata": {},
   "outputs": [
    {
     "data": {
      "text/plain": [
       "(96, 4)"
      ]
     },
     "execution_count": 50,
     "metadata": {},
     "output_type": "execute_result"
    }
   ],
   "source": [
    "#SONG NAME DATA CLEANUP\n",
    "\n",
    "grouped = df_tracks.groupby(['artist_name','track_name'], as_index=True).size()\n",
    "grouped[grouped > 1].count()\n",
    "\n",
    "df_tracks.drop_duplicates(subset=['artist_name','track_name'], inplace=True)\n",
    "\n",
    "# doing the same grouping as before to verify the solution\n",
    "grouped_after_dropping = df_tracks.groupby(['artist_name','track_name'], as_index=True).size()\n",
    "grouped_after_dropping[grouped_after_dropping > 1].count()\n",
    "\n",
    "df_tracks[df_tracks.duplicated(subset=['artist_name','track_name'],keep=False)].count()\n",
    "df_tracks.shape"
   ]
  },
  {
   "cell_type": "code",
   "execution_count": 51,
   "metadata": {},
   "outputs": [
    {
     "name": "stdout",
     "output_type": "stream",
     "text": [
      "Number of tracks where no audio features were available: 0\n",
      "number of elements in the track_id list: 96\n",
      "Shape of the dataset: (96, 18)\n",
      "<class 'pandas.core.frame.DataFrame'>\n",
      "RangeIndex: 96 entries, 0 to 95\n",
      "Data columns (total 18 columns):\n",
      "acousticness        96 non-null float64\n",
      "analysis_url        96 non-null object\n",
      "danceability        96 non-null float64\n",
      "duration_ms         96 non-null int64\n",
      "energy              96 non-null float64\n",
      "id                  96 non-null object\n",
      "instrumentalness    96 non-null float64\n",
      "key                 96 non-null int64\n",
      "liveness            96 non-null float64\n",
      "loudness            96 non-null float64\n",
      "mode                96 non-null int64\n",
      "speechiness         96 non-null float64\n",
      "tempo               96 non-null float64\n",
      "time_signature      96 non-null int64\n",
      "track_href          96 non-null object\n",
      "type                96 non-null object\n",
      "uri                 96 non-null object\n",
      "valence             96 non-null float64\n",
      "dtypes: float64(9), int64(4), object(5)\n",
      "memory usage: 13.6+ KB\n"
     ]
    }
   ],
   "source": [
    "#GET SONG METRICS OF THE RANDOM SAMPLE\n",
    "\n",
    "\n",
    "# empty list, batchsize and the counter for None results\n",
    "rows = []\n",
    "batchsize = 50\n",
    "None_counter = 0\n",
    "\n",
    "\n",
    "for i in range(0,len(df_tracks['track_id']),batchsize):\n",
    "    batch = df_tracks['track_id'][i:i+batchsize]\n",
    "    feature_results = sp.audio_features(batch)\n",
    "    for i, t in enumerate(feature_results):\n",
    "        if t == None:\n",
    "            None_counter = None_counter + 1\n",
    "        else:\n",
    "            rows.append(t)\n",
    "            \n",
    "            \n",
    "print('Number of tracks where no audio features were available:',None_counter)\n",
    "print('number of elements in the track_id list:', len(rows))\n",
    "\n",
    "\n",
    "df_audio_features = pd.DataFrame.from_dict(rows,orient='columns')\n",
    "print(\"Shape of the dataset:\", df_audio_features.shape)\n",
    "df_audio_features.head()\n",
    "df_audio_features.info()"
   ]
  },
  {
   "cell_type": "code",
   "execution_count": 52,
   "metadata": {},
   "outputs": [
    {
     "data": {
      "text/plain": [
       "(96, 14)"
      ]
     },
     "execution_count": 52,
     "metadata": {},
     "output_type": "execute_result"
    }
   ],
   "source": [
    "#SONG METRICS DATA CLEANUP\n",
    "\n",
    "columns_to_drop = ['analysis_url','track_href','type','uri']\n",
    "df_audio_features.drop(columns_to_drop, axis=1,inplace=True)\n",
    "\n",
    "df_audio_features.rename(columns={'id': 'track_id'}, inplace=True)\n",
    "\n",
    "df_audio_features.shape"
   ]
  },
  {
   "cell_type": "code",
   "execution_count": 53,
   "metadata": {},
   "outputs": [
    {
     "name": "stdout",
     "output_type": "stream",
     "text": [
      "Shape of the dataset: (96, 14)\n",
      "<class 'pandas.core.frame.DataFrame'>\n",
      "Int64Index: 96 entries, 0 to 95\n",
      "Data columns (total 17 columns):\n",
      "artist_name         96 non-null object\n",
      "track_name          96 non-null object\n",
      "track_id            96 non-null object\n",
      "popularity          96 non-null int64\n",
      "acousticness        96 non-null float64\n",
      "danceability        96 non-null float64\n",
      "duration_ms         96 non-null int64\n",
      "energy              96 non-null float64\n",
      "instrumentalness    96 non-null float64\n",
      "key                 96 non-null int64\n",
      "liveness            96 non-null float64\n",
      "loudness            96 non-null float64\n",
      "mode                96 non-null int64\n",
      "speechiness         96 non-null float64\n",
      "tempo               96 non-null float64\n",
      "time_signature      96 non-null int64\n",
      "valence             96 non-null float64\n",
      "dtypes: float64(9), int64(5), object(3)\n",
      "memory usage: 13.5+ KB\n"
     ]
    },
    {
     "data": {
      "text/html": [
       "<div>\n",
       "<style scoped>\n",
       "    .dataframe tbody tr th:only-of-type {\n",
       "        vertical-align: middle;\n",
       "    }\n",
       "\n",
       "    .dataframe tbody tr th {\n",
       "        vertical-align: top;\n",
       "    }\n",
       "\n",
       "    .dataframe thead th {\n",
       "        text-align: right;\n",
       "    }\n",
       "</style>\n",
       "<table border=\"1\" class=\"dataframe\">\n",
       "  <thead>\n",
       "    <tr style=\"text-align: right;\">\n",
       "      <th></th>\n",
       "      <th>artist_name</th>\n",
       "      <th>track_name</th>\n",
       "      <th>track_id</th>\n",
       "      <th>popularity</th>\n",
       "      <th>acousticness</th>\n",
       "      <th>danceability</th>\n",
       "      <th>duration_ms</th>\n",
       "      <th>energy</th>\n",
       "      <th>instrumentalness</th>\n",
       "      <th>key</th>\n",
       "      <th>liveness</th>\n",
       "      <th>loudness</th>\n",
       "      <th>mode</th>\n",
       "      <th>speechiness</th>\n",
       "      <th>tempo</th>\n",
       "      <th>time_signature</th>\n",
       "      <th>valence</th>\n",
       "    </tr>\n",
       "  </thead>\n",
       "  <tbody>\n",
       "  </tbody>\n",
       "</table>\n",
       "</div>"
      ],
      "text/plain": [
       "Empty DataFrame\n",
       "Columns: [artist_name, track_name, track_id, popularity, acousticness, danceability, duration_ms, energy, instrumentalness, key, liveness, loudness, mode, speechiness, tempo, time_signature, valence]\n",
       "Index: []"
      ]
     },
     "execution_count": 53,
     "metadata": {},
     "output_type": "execute_result"
    }
   ],
   "source": [
    "# MERGE BOTH DATAFRAMES\n",
    "\n",
    "# the 'inner' method will make sure that we only keep track IDs present in both datasets\n",
    "df = pd.merge(df_tracks,df_audio_features,on='track_id',how='inner')\n",
    "print(\"Shape of the dataset:\", df_audio_features.shape)\n",
    "df.head()\n",
    "df.info()\n",
    "\n",
    "df[df.duplicated(subset=['artist_name','track_name'],keep=False)]"
   ]
  },
  {
   "cell_type": "code",
   "execution_count": 54,
   "metadata": {},
   "outputs": [],
   "source": [
    "#WRITE TO CSV\n",
    "\n",
    "df.to_csv('try1.csv')"
   ]
  },
  {
   "cell_type": "code",
   "execution_count": null,
   "metadata": {},
   "outputs": [],
   "source": []
  }
 ],
 "metadata": {
  "kernelspec": {
   "display_name": "Python 3",
   "language": "python",
   "name": "python3"
  },
  "language_info": {
   "codemirror_mode": {
    "name": "ipython",
    "version": 3
   },
   "file_extension": ".py",
   "mimetype": "text/x-python",
   "name": "python",
   "nbconvert_exporter": "python",
   "pygments_lexer": "ipython3",
   "version": "3.7.3"
  }
 },
 "nbformat": 4,
 "nbformat_minor": 2
}
